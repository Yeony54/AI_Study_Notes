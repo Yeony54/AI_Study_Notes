{
 "cells": [
  {
   "cell_type": "markdown",
   "id": "807ca48b",
   "metadata": {},
   "source": [
    "# 구내식당 식수인원예측\n",
    "Predict_Food_Demand_Model"
   ]
  },
  {
   "cell_type": "markdown",
   "id": "f286d048",
   "metadata": {},
   "source": [
    "- 중식계, 석식계 따로 예측"
   ]
  },
  {
   "cell_type": "markdown",
   "id": "224a1bd5",
   "metadata": {},
   "source": [
    "# Settings"
   ]
  },
  {
   "cell_type": "code",
   "execution_count": 311,
   "id": "9b853166",
   "metadata": {},
   "outputs": [],
   "source": [
    "import matplotlib as mpl\n",
    "import matplotlib.pyplot as plt\n",
    "import matplotlib.font_manager as fm\n",
    "from matplotlib import rc\n",
    "\n",
    "import warnings\n",
    "import numpy as np\n",
    "import pandas as pd\n",
    "\n",
    "import seaborn as sns\n",
    "plt.style.use('seaborn')\n",
    "sns.set(font_scale=1.5) \n",
    "\n",
    "# warning 출력 ignore\n",
    "warnings.filterwarnings(action='ignore')\n",
    "\n",
    "# 그래프에서 '-' 기호 때문에 문제 발생하는것 방지\n",
    "mpl.rcParams['axes.unicode_minus'] = False\n",
    "\n",
    "# 한글폰트 적용\n",
    "font_path = 'C:/jupyter_home/font/malgun.ttf'\n",
    "font_name = fm.FontProperties(fname=font_path).get_name()\n",
    "rc('font', family=font_name)"
   ]
  },
  {
   "cell_type": "code",
   "execution_count": 312,
   "id": "c2824c7c",
   "metadata": {},
   "outputs": [],
   "source": [
    "import re    # 정규식\n",
    "import itertools"
   ]
  },
  {
   "cell_type": "code",
   "execution_count": 313,
   "id": "0c74505d",
   "metadata": {},
   "outputs": [],
   "source": [
    "from sklearn import linear_model\n",
    "from scipy import stats            # 이상치처리\n",
    "from sklearn.preprocessing import MinMaxScaler"
   ]
  },
  {
   "cell_type": "markdown",
   "id": "47308cb2",
   "metadata": {},
   "source": [
    "# Import"
   ]
  },
  {
   "cell_type": "code",
   "execution_count": 315,
   "id": "ee10e4f1",
   "metadata": {},
   "outputs": [],
   "source": [
    "df_train = pd.read_csv('./data/train.csv')\n",
    "df_test = pd.read_csv('./data/test.csv')"
   ]
  },
  {
   "cell_type": "markdown",
   "id": "a80186d9",
   "metadata": {},
   "source": [
    "- 일자\n",
    "- 요일\n",
    "- 본사정원수 -\n",
    "- 본사휴가자수 ★\n",
    "- 본사출장자수 ★\n",
    "- 본사시간외근무명령서승인건수 ★\n",
    "- 현본사소속재택근무자수 -\n",
    "- 조식메뉴\n",
    "- 중식메뉴\n",
    "- 석식메뉴\n",
    "- 중식계 predict\n",
    "- 석식계 predict\n",
    "\n",
    "\n",
    "- 중식메뉴, 석식메뉴를 따로 처리해서 따로 할 수 있도록..."
   ]
  },
  {
   "cell_type": "code",
   "execution_count": 316,
   "id": "bb96c90d",
   "metadata": {},
   "outputs": [
    {
     "data": {
      "text/html": [
       "<div>\n",
       "<style scoped>\n",
       "    .dataframe tbody tr th:only-of-type {\n",
       "        vertical-align: middle;\n",
       "    }\n",
       "\n",
       "    .dataframe tbody tr th {\n",
       "        vertical-align: top;\n",
       "    }\n",
       "\n",
       "    .dataframe thead th {\n",
       "        text-align: right;\n",
       "    }\n",
       "</style>\n",
       "<table border=\"1\" class=\"dataframe\">\n",
       "  <thead>\n",
       "    <tr style=\"text-align: right;\">\n",
       "      <th></th>\n",
       "      <th>일자</th>\n",
       "      <th>요일</th>\n",
       "      <th>본사정원수</th>\n",
       "      <th>본사휴가자수</th>\n",
       "      <th>본사출장자수</th>\n",
       "      <th>본사시간외근무명령서승인건수</th>\n",
       "      <th>현본사소속재택근무자수</th>\n",
       "      <th>조식메뉴</th>\n",
       "      <th>중식메뉴</th>\n",
       "      <th>석식메뉴</th>\n",
       "      <th>중식계</th>\n",
       "      <th>석식계</th>\n",
       "    </tr>\n",
       "  </thead>\n",
       "  <tbody>\n",
       "    <tr>\n",
       "      <th>0</th>\n",
       "      <td>2016-02-01</td>\n",
       "      <td>월</td>\n",
       "      <td>2601</td>\n",
       "      <td>50</td>\n",
       "      <td>150</td>\n",
       "      <td>238</td>\n",
       "      <td>0.0</td>\n",
       "      <td>모닝롤/찐빵  우유/두유/주스 계란후라이  호두죽/쌀밥 (쌀:국내산) 된장찌개  쥐...</td>\n",
       "      <td>쌀밥/잡곡밥 (쌀,현미흑미:국내산) 오징어찌개  쇠불고기 (쇠고기:호주산) 계란찜 ...</td>\n",
       "      <td>쌀밥/잡곡밥 (쌀,현미흑미:국내산) 육개장  자반고등어구이  두부조림  건파래무침 ...</td>\n",
       "      <td>1039.0</td>\n",
       "      <td>331.0</td>\n",
       "    </tr>\n",
       "    <tr>\n",
       "      <th>1</th>\n",
       "      <td>2016-02-02</td>\n",
       "      <td>화</td>\n",
       "      <td>2601</td>\n",
       "      <td>50</td>\n",
       "      <td>173</td>\n",
       "      <td>319</td>\n",
       "      <td>0.0</td>\n",
       "      <td>모닝롤/단호박샌드  우유/두유/주스 계란후라이  팥죽/쌀밥 (쌀:국내산) 호박젓국찌...</td>\n",
       "      <td>쌀밥/잡곡밥 (쌀,현미흑미:국내산) 김치찌개  가자미튀김  모둠소세지구이  마늘쫑무...</td>\n",
       "      <td>콩나물밥*양념장 (쌀,현미흑미:국내산) 어묵국  유산슬 (쇠고기:호주산) 아삭고추무...</td>\n",
       "      <td>867.0</td>\n",
       "      <td>560.0</td>\n",
       "    </tr>\n",
       "    <tr>\n",
       "      <th>2</th>\n",
       "      <td>2016-02-03</td>\n",
       "      <td>수</td>\n",
       "      <td>2601</td>\n",
       "      <td>56</td>\n",
       "      <td>180</td>\n",
       "      <td>111</td>\n",
       "      <td>0.0</td>\n",
       "      <td>모닝롤/베이글  우유/두유/주스 계란후라이  표고버섯죽/쌀밥 (쌀:국내산) 콩나물국...</td>\n",
       "      <td>카레덮밥 (쌀,현미흑미:국내산) 팽이장국  치킨핑거 (닭고기:국내산) 쫄면야채무침 ...</td>\n",
       "      <td>쌀밥/잡곡밥 (쌀,현미흑미:국내산) 청국장찌개  황태양념구이 (황태:러시아산) 고기...</td>\n",
       "      <td>1017.0</td>\n",
       "      <td>573.0</td>\n",
       "    </tr>\n",
       "  </tbody>\n",
       "</table>\n",
       "</div>"
      ],
      "text/plain": [
       "           일자 요일  본사정원수  본사휴가자수  본사출장자수  본사시간외근무명령서승인건수  현본사소속재택근무자수  \\\n",
       "0  2016-02-01  월   2601      50     150             238          0.0   \n",
       "1  2016-02-02  화   2601      50     173             319          0.0   \n",
       "2  2016-02-03  수   2601      56     180             111          0.0   \n",
       "\n",
       "                                                조식메뉴  \\\n",
       "0  모닝롤/찐빵  우유/두유/주스 계란후라이  호두죽/쌀밥 (쌀:국내산) 된장찌개  쥐...   \n",
       "1  모닝롤/단호박샌드  우유/두유/주스 계란후라이  팥죽/쌀밥 (쌀:국내산) 호박젓국찌...   \n",
       "2  모닝롤/베이글  우유/두유/주스 계란후라이  표고버섯죽/쌀밥 (쌀:국내산) 콩나물국...   \n",
       "\n",
       "                                                중식메뉴  \\\n",
       "0  쌀밥/잡곡밥 (쌀,현미흑미:국내산) 오징어찌개  쇠불고기 (쇠고기:호주산) 계란찜 ...   \n",
       "1  쌀밥/잡곡밥 (쌀,현미흑미:국내산) 김치찌개  가자미튀김  모둠소세지구이  마늘쫑무...   \n",
       "2  카레덮밥 (쌀,현미흑미:국내산) 팽이장국  치킨핑거 (닭고기:국내산) 쫄면야채무침 ...   \n",
       "\n",
       "                                                석식메뉴     중식계    석식계  \n",
       "0  쌀밥/잡곡밥 (쌀,현미흑미:국내산) 육개장  자반고등어구이  두부조림  건파래무침 ...  1039.0  331.0  \n",
       "1  콩나물밥*양념장 (쌀,현미흑미:국내산) 어묵국  유산슬 (쇠고기:호주산) 아삭고추무...   867.0  560.0  \n",
       "2  쌀밥/잡곡밥 (쌀,현미흑미:국내산) 청국장찌개  황태양념구이 (황태:러시아산) 고기...  1017.0  573.0  "
      ]
     },
     "execution_count": 316,
     "metadata": {},
     "output_type": "execute_result"
    }
   ],
   "source": [
    "df_train.head(3)"
   ]
  },
  {
   "cell_type": "code",
   "execution_count": 317,
   "id": "c32c0f45",
   "metadata": {},
   "outputs": [
    {
     "data": {
      "text/html": [
       "<div>\n",
       "<style scoped>\n",
       "    .dataframe tbody tr th:only-of-type {\n",
       "        vertical-align: middle;\n",
       "    }\n",
       "\n",
       "    .dataframe tbody tr th {\n",
       "        vertical-align: top;\n",
       "    }\n",
       "\n",
       "    .dataframe thead th {\n",
       "        text-align: right;\n",
       "    }\n",
       "</style>\n",
       "<table border=\"1\" class=\"dataframe\">\n",
       "  <thead>\n",
       "    <tr style=\"text-align: right;\">\n",
       "      <th></th>\n",
       "      <th>일자</th>\n",
       "      <th>요일</th>\n",
       "      <th>본사정원수</th>\n",
       "      <th>본사휴가자수</th>\n",
       "      <th>본사출장자수</th>\n",
       "      <th>본사시간외근무명령서승인건수</th>\n",
       "      <th>현본사소속재택근무자수</th>\n",
       "      <th>조식메뉴</th>\n",
       "      <th>중식메뉴</th>\n",
       "      <th>석식메뉴</th>\n",
       "    </tr>\n",
       "  </thead>\n",
       "  <tbody>\n",
       "    <tr>\n",
       "      <th>0</th>\n",
       "      <td>2021-01-27</td>\n",
       "      <td>수</td>\n",
       "      <td>2983</td>\n",
       "      <td>88</td>\n",
       "      <td>182</td>\n",
       "      <td>5</td>\n",
       "      <td>358.0</td>\n",
       "      <td>모닝롤/연유버터베이글 우유/주스 계란후라이/찐계란 단호박죽/흑미밥 우거지국 고기완자...</td>\n",
       "      <td>쌀밥/흑미밥/찰현미밥 대구지리 매운돈갈비찜 오꼬노미계란말이 상추무침 포기김치 양상추...</td>\n",
       "      <td>흑미밥 얼큰순두부찌개 쇠고기우엉볶음 버섯햄볶음 (New)아삭이고추무절임 포기김치</td>\n",
       "    </tr>\n",
       "    <tr>\n",
       "      <th>1</th>\n",
       "      <td>2021-01-28</td>\n",
       "      <td>목</td>\n",
       "      <td>2983</td>\n",
       "      <td>104</td>\n",
       "      <td>212</td>\n",
       "      <td>409</td>\n",
       "      <td>348.0</td>\n",
       "      <td>모닝롤/대만샌드위치 우유/주스 계란후라이/찐계란 누룽지탕/흑미밥 황태국 시래기지짐 ...</td>\n",
       "      <td>쌀밥/보리밥/찰현미밥 우렁된장찌개 오리주물럭 청양부추전 수제삼색무쌈 겉절이김치 양상...</td>\n",
       "      <td>충무김밥 우동국물 오징어무침 꽃맛살샐러드 얼갈이쌈장무침 석박지</td>\n",
       "    </tr>\n",
       "    <tr>\n",
       "      <th>2</th>\n",
       "      <td>2021-01-29</td>\n",
       "      <td>금</td>\n",
       "      <td>2983</td>\n",
       "      <td>270</td>\n",
       "      <td>249</td>\n",
       "      <td>0</td>\n",
       "      <td>294.0</td>\n",
       "      <td>모닝롤/핫케익 우유/주스 계란후라이/찐계란 오곡죽/흑미밥 매생이굴국 고구마순볶음 양...</td>\n",
       "      <td>쌀밥/흑미밥/찰현미밥 팽이장국 수제돈까스*소스 가자미조림 동초나물무침 포기김치 양상...</td>\n",
       "      <td>흑미밥 물만둣국 카레찜닭 숯불양념꼬지어묵 꼬시래기무침 포기김치</td>\n",
       "    </tr>\n",
       "  </tbody>\n",
       "</table>\n",
       "</div>"
      ],
      "text/plain": [
       "           일자 요일  본사정원수  본사휴가자수  본사출장자수  본사시간외근무명령서승인건수  현본사소속재택근무자수  \\\n",
       "0  2021-01-27  수   2983      88     182               5        358.0   \n",
       "1  2021-01-28  목   2983     104     212             409        348.0   \n",
       "2  2021-01-29  금   2983     270     249               0        294.0   \n",
       "\n",
       "                                                조식메뉴  \\\n",
       "0  모닝롤/연유버터베이글 우유/주스 계란후라이/찐계란 단호박죽/흑미밥 우거지국 고기완자...   \n",
       "1  모닝롤/대만샌드위치 우유/주스 계란후라이/찐계란 누룽지탕/흑미밥 황태국 시래기지짐 ...   \n",
       "2  모닝롤/핫케익 우유/주스 계란후라이/찐계란 오곡죽/흑미밥 매생이굴국 고구마순볶음 양...   \n",
       "\n",
       "                                                중식메뉴  \\\n",
       "0  쌀밥/흑미밥/찰현미밥 대구지리 매운돈갈비찜 오꼬노미계란말이 상추무침 포기김치 양상추...   \n",
       "1  쌀밥/보리밥/찰현미밥 우렁된장찌개 오리주물럭 청양부추전 수제삼색무쌈 겉절이김치 양상...   \n",
       "2  쌀밥/흑미밥/찰현미밥 팽이장국 수제돈까스*소스 가자미조림 동초나물무침 포기김치 양상...   \n",
       "\n",
       "                                            석식메뉴  \n",
       "0  흑미밥 얼큰순두부찌개 쇠고기우엉볶음 버섯햄볶음 (New)아삭이고추무절임 포기김치   \n",
       "1            충무김밥 우동국물 오징어무침 꽃맛살샐러드 얼갈이쌈장무침 석박지   \n",
       "2            흑미밥 물만둣국 카레찜닭 숯불양념꼬지어묵 꼬시래기무침 포기김치   "
      ]
     },
     "execution_count": 317,
     "metadata": {},
     "output_type": "execute_result"
    }
   ],
   "source": [
    "df_test.head(3)"
   ]
  },
  {
   "cell_type": "markdown",
   "id": "3f972ba3",
   "metadata": {},
   "source": [
    "# Pre Processing : df_train_1, df_test_1\n",
    "- 본사 휴가자수, 본사출장자수, 본사시간외근무명령서승인건수, 현본사소속재택근무자수 에 대해서 "
   ]
  },
  {
   "cell_type": "code",
   "execution_count": 326,
   "id": "6d7c97c9",
   "metadata": {},
   "outputs": [],
   "source": [
    "# pre processing 필요없는 컬럼 삭제\n",
    "\n",
    "df_train_1 = df_train.drop(['요일', '본사정원수', '조식메뉴','중식메뉴','석식메뉴'], axis=1)\n",
    "df_train_1.rename(columns = {'본사휴가자수' : '휴가자수',\n",
    "                               '본사출장자수' : '출장자수',\n",
    "                               '본사시간외근무명령서승인건수': '승인건수',\n",
    "                               '현본사소속재택근무자수': '재택근무'}, inplace = True)\n",
    "df_test_1 = df_test.drop(['요일', '본사정원수', '조식메뉴','중식메뉴','석식메뉴'], axis=1)\n",
    "df_test_1.rename(columns = {'본사휴가자수' : '휴가자수',\n",
    "                               '본사출장자수' : '출장자수',\n",
    "                               '본사시간외근무명령서승인건수': '승인건수',\n",
    "                               '현본사소속재택근무자수': '재택근무'}, inplace = True)\n"
   ]
  },
  {
   "cell_type": "markdown",
   "id": "537d7846",
   "metadata": {},
   "source": [
    "## 1. 결측치 확인"
   ]
  },
  {
   "cell_type": "code",
   "execution_count": 327,
   "id": "b34eae11",
   "metadata": {},
   "outputs": [
    {
     "data": {
      "text/plain": [
       "일자      0\n",
       "휴가자수    0\n",
       "출장자수    0\n",
       "승인건수    0\n",
       "재택근무    0\n",
       "중식계     0\n",
       "석식계     0\n",
       "dtype: int64"
      ]
     },
     "execution_count": 327,
     "metadata": {},
     "output_type": "execute_result"
    }
   ],
   "source": [
    "df_train_1.isnull().sum()"
   ]
  },
  {
   "cell_type": "code",
   "execution_count": 328,
   "id": "c36f9957",
   "metadata": {},
   "outputs": [
    {
     "data": {
      "text/plain": [
       "일자      0\n",
       "휴가자수    0\n",
       "출장자수    0\n",
       "승인건수    0\n",
       "재택근무    0\n",
       "dtype: int64"
      ]
     },
     "execution_count": 328,
     "metadata": {},
     "output_type": "execute_result"
    }
   ],
   "source": [
    "df_test_1.isnull().sum()"
   ]
  },
  {
   "cell_type": "markdown",
   "id": "42d2742f",
   "metadata": {},
   "source": [
    "## 2. 이상치 확인\n",
    "- 이상치가 아닌 실제 데이터라고 생각하고 이상치 제거를 하지 않겠음"
   ]
  },
  {
   "cell_type": "markdown",
   "id": "a1e9093b",
   "metadata": {},
   "source": [
    "## 3. 정규화"
   ]
  },
  {
   "cell_type": "markdown",
   "id": "12ed612a",
   "metadata": {},
   "source": [
    "- 전체에 대해 Min-Max 정규화를 수행\n",
    "- 몇개 column[\\'본사휴가자수\\', \\'본사출장자수\\']에 log 함수를 씌워서 정규분포로 만들어준다"
   ]
  },
  {
   "cell_type": "markdown",
   "id": "5bbc70cf",
   "metadata": {},
   "source": [
    "### A) log 사용해서 정규분포화"
   ]
  },
  {
   "cell_type": "code",
   "execution_count": 321,
   "id": "e8a7a18d",
   "metadata": {},
   "outputs": [],
   "source": [
    "# df_train_1['휴가자수'] = pd.Series(stats.boxcox(df_train_1['휴가자수']+0.0001)[0])\n",
    "# df_train_1['출장자수'] = pd.Series(stats.boxcox(df_train_1['출장자수']+0.0001)[0])\n",
    "\n",
    "# df_test_1['휴가자수'] = pd.Series(stats.boxcox(df_test_1['휴가자수']+0.0001)[0])\n",
    "# df_test_1['출장자수'] = pd.Series(stats.boxcox(df_test_1['출장자수']+0.0001)[0])"
   ]
  },
  {
   "cell_type": "code",
   "execution_count": 329,
   "id": "d46aa65b",
   "metadata": {},
   "outputs": [],
   "source": [
    "df_train_1['휴가자수'] = np.log1p(df_train_1['휴가자수'])\n",
    "df_train_1['출장자수'] = np.log1p(df_train_1['출장자수'])\n",
    "\n",
    "df_test_1['휴가자수'] = np.log1p(df_test_1['휴가자수'])\n",
    "df_test_1['출장자수'] = np.log1p(df_test_1['출장자수'])"
   ]
  },
  {
   "cell_type": "code",
   "execution_count": 330,
   "id": "9ea8b4e4",
   "metadata": {},
   "outputs": [
    {
     "data": {
      "text/html": [
       "<div>\n",
       "<style scoped>\n",
       "    .dataframe tbody tr th:only-of-type {\n",
       "        vertical-align: middle;\n",
       "    }\n",
       "\n",
       "    .dataframe tbody tr th {\n",
       "        vertical-align: top;\n",
       "    }\n",
       "\n",
       "    .dataframe thead th {\n",
       "        text-align: right;\n",
       "    }\n",
       "</style>\n",
       "<table border=\"1\" class=\"dataframe\">\n",
       "  <thead>\n",
       "    <tr style=\"text-align: right;\">\n",
       "      <th></th>\n",
       "      <th>일자</th>\n",
       "      <th>휴가자수</th>\n",
       "      <th>출장자수</th>\n",
       "      <th>승인건수</th>\n",
       "      <th>재택근무</th>\n",
       "      <th>중식계</th>\n",
       "      <th>석식계</th>\n",
       "    </tr>\n",
       "  </thead>\n",
       "  <tbody>\n",
       "    <tr>\n",
       "      <th>0</th>\n",
       "      <td>2016-02-01</td>\n",
       "      <td>3.931826</td>\n",
       "      <td>5.017280</td>\n",
       "      <td>238</td>\n",
       "      <td>0.0</td>\n",
       "      <td>1039.0</td>\n",
       "      <td>331.0</td>\n",
       "    </tr>\n",
       "    <tr>\n",
       "      <th>1</th>\n",
       "      <td>2016-02-02</td>\n",
       "      <td>3.931826</td>\n",
       "      <td>5.159055</td>\n",
       "      <td>319</td>\n",
       "      <td>0.0</td>\n",
       "      <td>867.0</td>\n",
       "      <td>560.0</td>\n",
       "    </tr>\n",
       "    <tr>\n",
       "      <th>2</th>\n",
       "      <td>2016-02-03</td>\n",
       "      <td>4.043051</td>\n",
       "      <td>5.198497</td>\n",
       "      <td>111</td>\n",
       "      <td>0.0</td>\n",
       "      <td>1017.0</td>\n",
       "      <td>573.0</td>\n",
       "    </tr>\n",
       "    <tr>\n",
       "      <th>3</th>\n",
       "      <td>2016-02-04</td>\n",
       "      <td>4.653960</td>\n",
       "      <td>5.398163</td>\n",
       "      <td>355</td>\n",
       "      <td>0.0</td>\n",
       "      <td>978.0</td>\n",
       "      <td>525.0</td>\n",
       "    </tr>\n",
       "    <tr>\n",
       "      <th>4</th>\n",
       "      <td>2016-02-05</td>\n",
       "      <td>5.631212</td>\n",
       "      <td>5.204007</td>\n",
       "      <td>34</td>\n",
       "      <td>0.0</td>\n",
       "      <td>925.0</td>\n",
       "      <td>330.0</td>\n",
       "    </tr>\n",
       "  </tbody>\n",
       "</table>\n",
       "</div>"
      ],
      "text/plain": [
       "           일자      휴가자수      출장자수  승인건수  재택근무     중식계    석식계\n",
       "0  2016-02-01  3.931826  5.017280   238   0.0  1039.0  331.0\n",
       "1  2016-02-02  3.931826  5.159055   319   0.0   867.0  560.0\n",
       "2  2016-02-03  4.043051  5.198497   111   0.0  1017.0  573.0\n",
       "3  2016-02-04  4.653960  5.398163   355   0.0   978.0  525.0\n",
       "4  2016-02-05  5.631212  5.204007    34   0.0   925.0  330.0"
      ]
     },
     "execution_count": 330,
     "metadata": {},
     "output_type": "execute_result"
    }
   ],
   "source": [
    "df_train_1.head()"
   ]
  },
  {
   "cell_type": "code",
   "execution_count": 331,
   "id": "17baa5e0",
   "metadata": {},
   "outputs": [
    {
     "data": {
      "text/html": [
       "<div>\n",
       "<style scoped>\n",
       "    .dataframe tbody tr th:only-of-type {\n",
       "        vertical-align: middle;\n",
       "    }\n",
       "\n",
       "    .dataframe tbody tr th {\n",
       "        vertical-align: top;\n",
       "    }\n",
       "\n",
       "    .dataframe thead th {\n",
       "        text-align: right;\n",
       "    }\n",
       "</style>\n",
       "<table border=\"1\" class=\"dataframe\">\n",
       "  <thead>\n",
       "    <tr style=\"text-align: right;\">\n",
       "      <th></th>\n",
       "      <th>일자</th>\n",
       "      <th>휴가자수</th>\n",
       "      <th>출장자수</th>\n",
       "      <th>승인건수</th>\n",
       "      <th>재택근무</th>\n",
       "    </tr>\n",
       "  </thead>\n",
       "  <tbody>\n",
       "    <tr>\n",
       "      <th>0</th>\n",
       "      <td>2021-01-27</td>\n",
       "      <td>4.488636</td>\n",
       "      <td>5.209486</td>\n",
       "      <td>5</td>\n",
       "      <td>358.0</td>\n",
       "    </tr>\n",
       "    <tr>\n",
       "      <th>1</th>\n",
       "      <td>2021-01-28</td>\n",
       "      <td>4.653960</td>\n",
       "      <td>5.361292</td>\n",
       "      <td>409</td>\n",
       "      <td>348.0</td>\n",
       "    </tr>\n",
       "    <tr>\n",
       "      <th>2</th>\n",
       "      <td>2021-01-29</td>\n",
       "      <td>5.602119</td>\n",
       "      <td>5.521461</td>\n",
       "      <td>0</td>\n",
       "      <td>294.0</td>\n",
       "    </tr>\n",
       "    <tr>\n",
       "      <th>3</th>\n",
       "      <td>2021-02-01</td>\n",
       "      <td>4.691348</td>\n",
       "      <td>5.043425</td>\n",
       "      <td>538</td>\n",
       "      <td>322.0</td>\n",
       "    </tr>\n",
       "    <tr>\n",
       "      <th>4</th>\n",
       "      <td>2021-02-02</td>\n",
       "      <td>4.143135</td>\n",
       "      <td>5.231109</td>\n",
       "      <td>455</td>\n",
       "      <td>314.0</td>\n",
       "    </tr>\n",
       "  </tbody>\n",
       "</table>\n",
       "</div>"
      ],
      "text/plain": [
       "           일자      휴가자수      출장자수  승인건수   재택근무\n",
       "0  2021-01-27  4.488636  5.209486     5  358.0\n",
       "1  2021-01-28  4.653960  5.361292   409  348.0\n",
       "2  2021-01-29  5.602119  5.521461     0  294.0\n",
       "3  2021-02-01  4.691348  5.043425   538  322.0\n",
       "4  2021-02-02  4.143135  5.231109   455  314.0"
      ]
     },
     "execution_count": 331,
     "metadata": {},
     "output_type": "execute_result"
    }
   ],
   "source": [
    "df_test_1.head()"
   ]
  },
  {
   "cell_type": "markdown",
   "id": "13dc6f09",
   "metadata": {},
   "source": [
    "### B) Min-Max 정규화"
   ]
  },
  {
   "cell_type": "markdown",
   "id": "19d775ae",
   "metadata": {},
   "source": [
    "- train, test data 모두 MinMax 정규화를 해줄것이다.\n",
    "- scaler_x, scaler_t1, scaler_t2 scaler를 만들어준다."
   ]
  },
  {
   "cell_type": "code",
   "execution_count": 332,
   "id": "fe110872",
   "metadata": {},
   "outputs": [],
   "source": [
    "scaler = MinMaxScaler()\n",
    "\n",
    "df_train_2 = df_train_1.copy()\n",
    "df_test_2 = df_test_1.copy()\n",
    "\n",
    "df_train_2.iloc[:,1:] = scaler.fit(df_train_1.iloc[:,1:]).transform(df_train_1.iloc[:,1:])\n",
    "df_test_2.iloc[:,1:] = scaler.fit(df_train_1.iloc[:,1:-2]).transform(df_test_1.iloc[:,1:])\n",
    "\n",
    "df_train_2 = pd.DataFrame(df_train_2)\n",
    "df_train_2.columns = ['일자', '휴가자수', '출장자수', '승인건수', '재택근무', '중식계', '석식계']\n",
    "\n",
    "df_test_2 = pd.DataFrame(df_test_2)\n",
    "df_test_2.columns = ['일자', '휴가자수', '출장자수', '승인건수', '재택근무']"
   ]
  },
  {
   "cell_type": "code",
   "execution_count": 333,
   "id": "ed27e41b",
   "metadata": {},
   "outputs": [
    {
     "data": {
      "text/html": [
       "<div>\n",
       "<style scoped>\n",
       "    .dataframe tbody tr th:only-of-type {\n",
       "        vertical-align: middle;\n",
       "    }\n",
       "\n",
       "    .dataframe tbody tr th {\n",
       "        vertical-align: top;\n",
       "    }\n",
       "\n",
       "    .dataframe thead th {\n",
       "        text-align: right;\n",
       "    }\n",
       "</style>\n",
       "<table border=\"1\" class=\"dataframe\">\n",
       "  <thead>\n",
       "    <tr style=\"text-align: right;\">\n",
       "      <th></th>\n",
       "      <th>일자</th>\n",
       "      <th>휴가자수</th>\n",
       "      <th>출장자수</th>\n",
       "      <th>승인건수</th>\n",
       "      <th>재택근무</th>\n",
       "      <th>중식계</th>\n",
       "      <th>석식계</th>\n",
       "    </tr>\n",
       "  </thead>\n",
       "  <tbody>\n",
       "    <tr>\n",
       "      <th>0</th>\n",
       "      <td>2016-02-01</td>\n",
       "      <td>0.191671</td>\n",
       "      <td>0.581676</td>\n",
       "      <td>0.227969</td>\n",
       "      <td>0.0</td>\n",
       "      <td>0.638865</td>\n",
       "      <td>0.365746</td>\n",
       "    </tr>\n",
       "    <tr>\n",
       "      <th>1</th>\n",
       "      <td>2016-02-02</td>\n",
       "      <td>0.191671</td>\n",
       "      <td>0.646124</td>\n",
       "      <td>0.305556</td>\n",
       "      <td>0.0</td>\n",
       "      <td>0.490972</td>\n",
       "      <td>0.618785</td>\n",
       "    </tr>\n",
       "    <tr>\n",
       "      <th>2</th>\n",
       "      <td>2016-02-03</td>\n",
       "      <td>0.219953</td>\n",
       "      <td>0.664053</td>\n",
       "      <td>0.106322</td>\n",
       "      <td>0.0</td>\n",
       "      <td>0.619948</td>\n",
       "      <td>0.633149</td>\n",
       "    </tr>\n",
       "    <tr>\n",
       "      <th>3</th>\n",
       "      <td>2016-02-04</td>\n",
       "      <td>0.375296</td>\n",
       "      <td>0.754815</td>\n",
       "      <td>0.340038</td>\n",
       "      <td>0.0</td>\n",
       "      <td>0.586414</td>\n",
       "      <td>0.580110</td>\n",
       "    </tr>\n",
       "    <tr>\n",
       "      <th>4</th>\n",
       "      <td>2016-02-05</td>\n",
       "      <td>0.623794</td>\n",
       "      <td>0.666557</td>\n",
       "      <td>0.032567</td>\n",
       "      <td>0.0</td>\n",
       "      <td>0.540843</td>\n",
       "      <td>0.364641</td>\n",
       "    </tr>\n",
       "  </tbody>\n",
       "</table>\n",
       "</div>"
      ],
      "text/plain": [
       "           일자      휴가자수      출장자수      승인건수  재택근무       중식계       석식계\n",
       "0  2016-02-01  0.191671  0.581676  0.227969   0.0  0.638865  0.365746\n",
       "1  2016-02-02  0.191671  0.646124  0.305556   0.0  0.490972  0.618785\n",
       "2  2016-02-03  0.219953  0.664053  0.106322   0.0  0.619948  0.633149\n",
       "3  2016-02-04  0.375296  0.754815  0.340038   0.0  0.586414  0.580110\n",
       "4  2016-02-05  0.623794  0.666557  0.032567   0.0  0.540843  0.364641"
      ]
     },
     "execution_count": 333,
     "metadata": {},
     "output_type": "execute_result"
    }
   ],
   "source": [
    "df_train_2.head()"
   ]
  },
  {
   "cell_type": "code",
   "execution_count": 334,
   "id": "79ad6709",
   "metadata": {},
   "outputs": [
    {
     "data": {
      "text/html": [
       "<div>\n",
       "<style scoped>\n",
       "    .dataframe tbody tr th:only-of-type {\n",
       "        vertical-align: middle;\n",
       "    }\n",
       "\n",
       "    .dataframe tbody tr th {\n",
       "        vertical-align: top;\n",
       "    }\n",
       "\n",
       "    .dataframe thead th {\n",
       "        text-align: right;\n",
       "    }\n",
       "</style>\n",
       "<table border=\"1\" class=\"dataframe\">\n",
       "  <thead>\n",
       "    <tr style=\"text-align: right;\">\n",
       "      <th></th>\n",
       "      <th>일자</th>\n",
       "      <th>휴가자수</th>\n",
       "      <th>출장자수</th>\n",
       "      <th>승인건수</th>\n",
       "      <th>재택근무</th>\n",
       "    </tr>\n",
       "  </thead>\n",
       "  <tbody>\n",
       "    <tr>\n",
       "      <th>0</th>\n",
       "      <td>2021-01-27</td>\n",
       "      <td>0.333258</td>\n",
       "      <td>0.669048</td>\n",
       "      <td>0.004789</td>\n",
       "      <td>0.671670</td>\n",
       "    </tr>\n",
       "    <tr>\n",
       "      <th>1</th>\n",
       "      <td>2021-01-28</td>\n",
       "      <td>0.375296</td>\n",
       "      <td>0.738055</td>\n",
       "      <td>0.391762</td>\n",
       "      <td>0.652908</td>\n",
       "    </tr>\n",
       "    <tr>\n",
       "      <th>2</th>\n",
       "      <td>2021-01-29</td>\n",
       "      <td>0.616396</td>\n",
       "      <td>0.810863</td>\n",
       "      <td>0.000000</td>\n",
       "      <td>0.551595</td>\n",
       "    </tr>\n",
       "    <tr>\n",
       "      <th>3</th>\n",
       "      <td>2021-02-01</td>\n",
       "      <td>0.384803</td>\n",
       "      <td>0.593561</td>\n",
       "      <td>0.515326</td>\n",
       "      <td>0.604128</td>\n",
       "    </tr>\n",
       "    <tr>\n",
       "      <th>4</th>\n",
       "      <td>2021-02-02</td>\n",
       "      <td>0.245403</td>\n",
       "      <td>0.678877</td>\n",
       "      <td>0.435824</td>\n",
       "      <td>0.589118</td>\n",
       "    </tr>\n",
       "  </tbody>\n",
       "</table>\n",
       "</div>"
      ],
      "text/plain": [
       "           일자      휴가자수      출장자수      승인건수      재택근무\n",
       "0  2021-01-27  0.333258  0.669048  0.004789  0.671670\n",
       "1  2021-01-28  0.375296  0.738055  0.391762  0.652908\n",
       "2  2021-01-29  0.616396  0.810863  0.000000  0.551595\n",
       "3  2021-02-01  0.384803  0.593561  0.515326  0.604128\n",
       "4  2021-02-02  0.245403  0.678877  0.435824  0.589118"
      ]
     },
     "execution_count": 334,
     "metadata": {},
     "output_type": "execute_result"
    }
   ],
   "source": [
    "df_test_2.head()"
   ]
  },
  {
   "cell_type": "markdown",
   "id": "ad390817",
   "metadata": {},
   "source": [
    "## 4. 메뉴 one-hot encoding\n",
    "- 확인해본결과 상관성이 전혀없어서 넣지 않기로함"
   ]
  },
  {
   "cell_type": "markdown",
   "id": "9dbf9690",
   "metadata": {},
   "source": [
    "# Model"
   ]
  },
  {
   "cell_type": "markdown",
   "id": "23f6f5a2",
   "metadata": {},
   "source": [
    "<선형 회귀 모델 종류>\n",
    "- 일반선형회귀모델\n",
    "- 릿지회귀모델\n",
    "- 라쏘회귀모델\n",
    "- 엘라스틱넷 회귀모델\n",
    "- 로지스틱 회귀모델"
   ]
  },
  {
   "cell_type": "markdown",
   "id": "cbc38f7e",
   "metadata": {},
   "source": [
    "# 중식계"
   ]
  },
  {
   "cell_type": "code",
   "execution_count": 337,
   "id": "c94bf0bd",
   "metadata": {},
   "outputs": [],
   "source": [
    "df_train_lunch = df_train_2.drop(['일자','석식계'], axis=1)\n",
    "df_test_lunch = df_test_2"
   ]
  },
  {
   "cell_type": "code",
   "execution_count": 338,
   "id": "3e256435",
   "metadata": {},
   "outputs": [],
   "source": [
    "train, val = train_test_split(df_train_lunch, test_size=0.3,random_state=0)\n",
    "X_train = train[train.columns[:-1]]\n",
    "y_train = train[train.columns[-1]]\n",
    "X_val = val[val.columns[:-1]]\n",
    "y_val = val[val.columns[-1]]\n",
    "X_test= df_test_lunch"
   ]
  },
  {
   "cell_type": "markdown",
   "id": "01939827",
   "metadata": {},
   "source": [
    "### Learning"
   ]
  },
  {
   "cell_type": "markdown",
   "id": "4bce3953",
   "metadata": {},
   "source": [
    "#### sklearn leaner_model : 중식계"
   ]
  },
  {
   "cell_type": "code",
   "execution_count": 340,
   "id": "ef135e74",
   "metadata": {
    "scrolled": true
   },
   "outputs": [
    {
     "name": "stdout",
     "output_type": "stream",
     "text": [
      "MAE : -0.0023243132732201337\n",
      "MSE : 0.017007429910053995\n",
      "RMSE : 0.1304125373959651\n"
     ]
    }
   ],
   "source": [
    "# sklearn 구현\n",
    "from sklearn import linear_model\n",
    "\n",
    "model = linear_model.LinearRegression()\n",
    "\n",
    "model.fit(X_train, y_train)\n",
    "\n",
    "prediction1 = model.predict(X_val)\n",
    "\n",
    "# print('Accuracy for rbf sklearn leaner_model is ',metrics.precision_score(prediction1,y_val))\n",
    "# 정확도 : 전체 샘플 중 맞게 예측한 샘플 수의 비율\n",
    "\n",
    "print(f'MAE : {np.mean(y_val - prediction1)}')\n",
    "print(f'MSE : {np.mean(np.power(y_val - prediction1, 2))}')\n",
    "print(f'RMSE : {np.sqrt(np.mean(np.power(y_val - prediction1, 2)))}')\n"
   ]
  },
  {
   "cell_type": "markdown",
   "id": "d7cad201",
   "metadata": {},
   "source": [
    "### Prediction"
   ]
  },
  {
   "cell_type": "markdown",
   "id": "d152ac44",
   "metadata": {},
   "source": [
    "#### sklearn leaner_model : 중식계"
   ]
  },
  {
   "cell_type": "code",
   "execution_count": 344,
   "id": "ba279458",
   "metadata": {
    "scrolled": false
   },
   "outputs": [
    {
     "data": {
      "text/html": [
       "<div>\n",
       "<style scoped>\n",
       "    .dataframe tbody tr th:only-of-type {\n",
       "        vertical-align: middle;\n",
       "    }\n",
       "\n",
       "    .dataframe tbody tr th {\n",
       "        vertical-align: top;\n",
       "    }\n",
       "\n",
       "    .dataframe thead th {\n",
       "        text-align: right;\n",
       "    }\n",
       "</style>\n",
       "<table border=\"1\" class=\"dataframe\">\n",
       "  <thead>\n",
       "    <tr style=\"text-align: right;\">\n",
       "      <th></th>\n",
       "      <th>일자</th>\n",
       "      <th>휴가자수</th>\n",
       "      <th>출장자수</th>\n",
       "      <th>승인건수</th>\n",
       "      <th>재택근무</th>\n",
       "      <th>중식계</th>\n",
       "    </tr>\n",
       "  </thead>\n",
       "  <tbody>\n",
       "    <tr>\n",
       "      <th>0</th>\n",
       "      <td>2021-01-27</td>\n",
       "      <td>0.333258</td>\n",
       "      <td>0.669048</td>\n",
       "      <td>0.004789</td>\n",
       "      <td>0.671670</td>\n",
       "      <td>0.532806</td>\n",
       "    </tr>\n",
       "    <tr>\n",
       "      <th>1</th>\n",
       "      <td>2021-01-28</td>\n",
       "      <td>0.375296</td>\n",
       "      <td>0.738055</td>\n",
       "      <td>0.391762</td>\n",
       "      <td>0.652908</td>\n",
       "      <td>0.549253</td>\n",
       "    </tr>\n",
       "    <tr>\n",
       "      <th>2</th>\n",
       "      <td>2021-01-29</td>\n",
       "      <td>0.616396</td>\n",
       "      <td>0.810863</td>\n",
       "      <td>0.000000</td>\n",
       "      <td>0.551595</td>\n",
       "      <td>0.287120</td>\n",
       "    </tr>\n",
       "    <tr>\n",
       "      <th>3</th>\n",
       "      <td>2021-02-01</td>\n",
       "      <td>0.384803</td>\n",
       "      <td>0.593561</td>\n",
       "      <td>0.515326</td>\n",
       "      <td>0.604128</td>\n",
       "      <td>0.719405</td>\n",
       "    </tr>\n",
       "    <tr>\n",
       "      <th>4</th>\n",
       "      <td>2021-02-02</td>\n",
       "      <td>0.245403</td>\n",
       "      <td>0.678877</td>\n",
       "      <td>0.435824</td>\n",
       "      <td>0.589118</td>\n",
       "      <td>0.679253</td>\n",
       "    </tr>\n",
       "  </tbody>\n",
       "</table>\n",
       "</div>"
      ],
      "text/plain": [
       "           일자      휴가자수      출장자수      승인건수      재택근무       중식계\n",
       "0  2021-01-27  0.333258  0.669048  0.004789  0.671670  0.532806\n",
       "1  2021-01-28  0.375296  0.738055  0.391762  0.652908  0.549253\n",
       "2  2021-01-29  0.616396  0.810863  0.000000  0.551595  0.287120\n",
       "3  2021-02-01  0.384803  0.593561  0.515326  0.604128  0.719405\n",
       "4  2021-02-02  0.245403  0.678877  0.435824  0.589118  0.679253"
      ]
     },
     "metadata": {},
     "output_type": "display_data"
    },
    {
     "data": {
      "text/html": [
       "<div>\n",
       "<style scoped>\n",
       "    .dataframe tbody tr th:only-of-type {\n",
       "        vertical-align: middle;\n",
       "    }\n",
       "\n",
       "    .dataframe tbody tr th {\n",
       "        vertical-align: top;\n",
       "    }\n",
       "\n",
       "    .dataframe thead th {\n",
       "        text-align: right;\n",
       "    }\n",
       "</style>\n",
       "<table border=\"1\" class=\"dataframe\">\n",
       "  <thead>\n",
       "    <tr style=\"text-align: right;\">\n",
       "      <th></th>\n",
       "      <th>일자</th>\n",
       "      <th>휴가자수</th>\n",
       "      <th>출장자수</th>\n",
       "      <th>승인건수</th>\n",
       "      <th>재택근무</th>\n",
       "      <th>중식계</th>\n",
       "    </tr>\n",
       "  </thead>\n",
       "  <tbody>\n",
       "    <tr>\n",
       "      <th>0</th>\n",
       "      <td>2021-01-27</td>\n",
       "      <td>0.333258</td>\n",
       "      <td>0.669048</td>\n",
       "      <td>0.004789</td>\n",
       "      <td>0.671670</td>\n",
       "      <td>915.653330</td>\n",
       "    </tr>\n",
       "    <tr>\n",
       "      <th>1</th>\n",
       "      <td>2021-01-28</td>\n",
       "      <td>0.375296</td>\n",
       "      <td>0.738055</td>\n",
       "      <td>0.391762</td>\n",
       "      <td>0.652908</td>\n",
       "      <td>934.781017</td>\n",
       "    </tr>\n",
       "    <tr>\n",
       "      <th>2</th>\n",
       "      <td>2021-01-29</td>\n",
       "      <td>0.616396</td>\n",
       "      <td>0.810863</td>\n",
       "      <td>0.000000</td>\n",
       "      <td>0.551595</td>\n",
       "      <td>629.921067</td>\n",
       "    </tr>\n",
       "    <tr>\n",
       "      <th>3</th>\n",
       "      <td>2021-02-01</td>\n",
       "      <td>0.384803</td>\n",
       "      <td>0.593561</td>\n",
       "      <td>0.515326</td>\n",
       "      <td>0.604128</td>\n",
       "      <td>1132.667754</td>\n",
       "    </tr>\n",
       "    <tr>\n",
       "      <th>4</th>\n",
       "      <td>2021-02-02</td>\n",
       "      <td>0.245403</td>\n",
       "      <td>0.678877</td>\n",
       "      <td>0.435824</td>\n",
       "      <td>0.589118</td>\n",
       "      <td>1085.971560</td>\n",
       "    </tr>\n",
       "  </tbody>\n",
       "</table>\n",
       "</div>"
      ],
      "text/plain": [
       "           일자      휴가자수      출장자수      승인건수      재택근무          중식계\n",
       "0  2021-01-27  0.333258  0.669048  0.004789  0.671670   915.653330\n",
       "1  2021-01-28  0.375296  0.738055  0.391762  0.652908   934.781017\n",
       "2  2021-01-29  0.616396  0.810863  0.000000  0.551595   629.921067\n",
       "3  2021-02-01  0.384803  0.593561  0.515326  0.604128  1132.667754\n",
       "4  2021-02-02  0.245403  0.678877  0.435824  0.589118  1085.971560"
      ]
     },
     "metadata": {},
     "output_type": "display_data"
    }
   ],
   "source": [
    "model = linear_model.LinearRegression()\n",
    "\n",
    "model.fit(X_train, y_train)\n",
    "\n",
    "prediction1 = model.predict(df_test_lunch.iloc[:,1:])\n",
    "\n",
    "scaler_t1 = scaler.fit(df_train_1['중식계'].values.reshape(-1,1))\n",
    "\n",
    "prediction2 = scaler_t1.inverse_transform(prediction1.reshape(-1,1))\n",
    "\n",
    "df_result_lunch = df_test_lunch.copy()\n",
    "df_result_lunch['중식계'] = pd.DataFrame(prediction1)\n",
    "\n",
    "# display(df_result_lunch.head())\n",
    "\n",
    "df_result_lunch['중식계'] = pd.DataFrame(prediction2)\n",
    "\n",
    "display(df_result_lunch.head())"
   ]
  },
  {
   "cell_type": "markdown",
   "id": "cf289b75",
   "metadata": {},
   "source": [
    "# 석식계"
   ]
  },
  {
   "cell_type": "code",
   "execution_count": 345,
   "id": "76d11f0f",
   "metadata": {},
   "outputs": [],
   "source": [
    "df_train_dinner = df_train_2.drop(['일자','중식계'], axis=1)\n",
    "df_test_dinner = df_test_2"
   ]
  },
  {
   "cell_type": "code",
   "execution_count": 346,
   "id": "b1c8c5e9",
   "metadata": {},
   "outputs": [],
   "source": [
    "train, val = train_test_split(df_train_dinner, test_size=0.3,random_state=0)\n",
    "X_train = train[train.columns[:-1]]\n",
    "y_train = train[train.columns[-1]]\n",
    "X_val = val[val.columns[:-1]]\n",
    "y_val = val[val.columns[-1]]\n",
    "X_test= df_test_dinner"
   ]
  },
  {
   "cell_type": "markdown",
   "id": "2d4a1387",
   "metadata": {},
   "source": [
    "### Learning"
   ]
  },
  {
   "cell_type": "markdown",
   "id": "d3fe4934",
   "metadata": {},
   "source": [
    "#### sklearn leaner_model : 석식계"
   ]
  },
  {
   "cell_type": "code",
   "execution_count": 349,
   "id": "16e238c9",
   "metadata": {
    "scrolled": true
   },
   "outputs": [
    {
     "name": "stdout",
     "output_type": "stream",
     "text": [
      "MAE : -0.005002532881634871\n",
      "MSE : 0.013263570188779092\n",
      "RMSE : 0.11516757438089548\n"
     ]
    }
   ],
   "source": [
    "# sklearn 구현\n",
    "from sklearn import linear_model\n",
    "\n",
    "model = linear_model.LinearRegression()\n",
    "\n",
    "model.fit(X_train, y_train)\n",
    "\n",
    "prediction1 = model.predict(X_val)\n",
    "\n",
    "# print('Accuracy for rbf sklearn leaner_model is ',metrics.precision_score(prediction1,y_val))\n",
    "# 정확도 : 전체 샘플 중 맞게 예측한 샘플 수의 비율\n",
    "\n",
    "print(f'MAE : {np.mean(y_val - prediction1)}')\n",
    "print(f'MSE : {np.mean(np.power(y_val - prediction1, 2))}')\n",
    "print(f'RMSE : {np.sqrt(np.mean(np.power(y_val - prediction1, 2)))}')\n"
   ]
  },
  {
   "cell_type": "markdown",
   "id": "05b1290e",
   "metadata": {},
   "source": [
    "### Prediction"
   ]
  },
  {
   "cell_type": "markdown",
   "id": "e2135aa2",
   "metadata": {},
   "source": [
    "#### sklearn leaner_model : 석식계"
   ]
  },
  {
   "cell_type": "code",
   "execution_count": 354,
   "id": "a827b416",
   "metadata": {
    "scrolled": true
   },
   "outputs": [
    {
     "data": {
      "text/html": [
       "<div>\n",
       "<style scoped>\n",
       "    .dataframe tbody tr th:only-of-type {\n",
       "        vertical-align: middle;\n",
       "    }\n",
       "\n",
       "    .dataframe tbody tr th {\n",
       "        vertical-align: top;\n",
       "    }\n",
       "\n",
       "    .dataframe thead th {\n",
       "        text-align: right;\n",
       "    }\n",
       "</style>\n",
       "<table border=\"1\" class=\"dataframe\">\n",
       "  <thead>\n",
       "    <tr style=\"text-align: right;\">\n",
       "      <th></th>\n",
       "      <th>일자</th>\n",
       "      <th>휴가자수</th>\n",
       "      <th>출장자수</th>\n",
       "      <th>승인건수</th>\n",
       "      <th>재택근무</th>\n",
       "      <th>석식계</th>\n",
       "    </tr>\n",
       "  </thead>\n",
       "  <tbody>\n",
       "    <tr>\n",
       "      <th>0</th>\n",
       "      <td>2021-01-27</td>\n",
       "      <td>0.333258</td>\n",
       "      <td>0.669048</td>\n",
       "      <td>0.004789</td>\n",
       "      <td>0.671670</td>\n",
       "      <td>0.388060</td>\n",
       "    </tr>\n",
       "    <tr>\n",
       "      <th>1</th>\n",
       "      <td>2021-01-28</td>\n",
       "      <td>0.375296</td>\n",
       "      <td>0.738055</td>\n",
       "      <td>0.391762</td>\n",
       "      <td>0.652908</td>\n",
       "      <td>0.497755</td>\n",
       "    </tr>\n",
       "    <tr>\n",
       "      <th>2</th>\n",
       "      <td>2021-01-29</td>\n",
       "      <td>0.616396</td>\n",
       "      <td>0.810863</td>\n",
       "      <td>0.000000</td>\n",
       "      <td>0.551595</td>\n",
       "      <td>0.321089</td>\n",
       "    </tr>\n",
       "    <tr>\n",
       "      <th>3</th>\n",
       "      <td>2021-02-01</td>\n",
       "      <td>0.384803</td>\n",
       "      <td>0.593561</td>\n",
       "      <td>0.515326</td>\n",
       "      <td>0.604128</td>\n",
       "      <td>0.576103</td>\n",
       "    </tr>\n",
       "    <tr>\n",
       "      <th>4</th>\n",
       "      <td>2021-02-02</td>\n",
       "      <td>0.245403</td>\n",
       "      <td>0.678877</td>\n",
       "      <td>0.435824</td>\n",
       "      <td>0.589118</td>\n",
       "      <td>0.556859</td>\n",
       "    </tr>\n",
       "  </tbody>\n",
       "</table>\n",
       "</div>"
      ],
      "text/plain": [
       "           일자      휴가자수      출장자수      승인건수      재택근무       석식계\n",
       "0  2021-01-27  0.333258  0.669048  0.004789  0.671670  0.388060\n",
       "1  2021-01-28  0.375296  0.738055  0.391762  0.652908  0.497755\n",
       "2  2021-01-29  0.616396  0.810863  0.000000  0.551595  0.321089\n",
       "3  2021-02-01  0.384803  0.593561  0.515326  0.604128  0.576103\n",
       "4  2021-02-02  0.245403  0.678877  0.435824  0.589118  0.556859"
      ]
     },
     "metadata": {},
     "output_type": "display_data"
    },
    {
     "data": {
      "text/html": [
       "<div>\n",
       "<style scoped>\n",
       "    .dataframe tbody tr th:only-of-type {\n",
       "        vertical-align: middle;\n",
       "    }\n",
       "\n",
       "    .dataframe tbody tr th {\n",
       "        vertical-align: top;\n",
       "    }\n",
       "\n",
       "    .dataframe thead th {\n",
       "        text-align: right;\n",
       "    }\n",
       "</style>\n",
       "<table border=\"1\" class=\"dataframe\">\n",
       "  <thead>\n",
       "    <tr style=\"text-align: right;\">\n",
       "      <th></th>\n",
       "      <th>일자</th>\n",
       "      <th>휴가자수</th>\n",
       "      <th>출장자수</th>\n",
       "      <th>승인건수</th>\n",
       "      <th>재택근무</th>\n",
       "      <th>석식계</th>\n",
       "    </tr>\n",
       "  </thead>\n",
       "  <tbody>\n",
       "    <tr>\n",
       "      <th>0</th>\n",
       "      <td>2021-01-27</td>\n",
       "      <td>0.333258</td>\n",
       "      <td>0.669048</td>\n",
       "      <td>0.004789</td>\n",
       "      <td>0.671670</td>\n",
       "      <td>351.194416</td>\n",
       "    </tr>\n",
       "    <tr>\n",
       "      <th>1</th>\n",
       "      <td>2021-01-28</td>\n",
       "      <td>0.375296</td>\n",
       "      <td>0.738055</td>\n",
       "      <td>0.391762</td>\n",
       "      <td>0.652908</td>\n",
       "      <td>450.468446</td>\n",
       "    </tr>\n",
       "    <tr>\n",
       "      <th>2</th>\n",
       "      <td>2021-01-29</td>\n",
       "      <td>0.616396</td>\n",
       "      <td>0.810863</td>\n",
       "      <td>0.000000</td>\n",
       "      <td>0.551595</td>\n",
       "      <td>290.585132</td>\n",
       "    </tr>\n",
       "    <tr>\n",
       "      <th>3</th>\n",
       "      <td>2021-02-01</td>\n",
       "      <td>0.384803</td>\n",
       "      <td>0.593561</td>\n",
       "      <td>0.515326</td>\n",
       "      <td>0.604128</td>\n",
       "      <td>521.373237</td>\n",
       "    </tr>\n",
       "    <tr>\n",
       "      <th>4</th>\n",
       "      <td>2021-02-02</td>\n",
       "      <td>0.245403</td>\n",
       "      <td>0.678877</td>\n",
       "      <td>0.435824</td>\n",
       "      <td>0.589118</td>\n",
       "      <td>503.957626</td>\n",
       "    </tr>\n",
       "  </tbody>\n",
       "</table>\n",
       "</div>"
      ],
      "text/plain": [
       "           일자      휴가자수      출장자수      승인건수      재택근무         석식계\n",
       "0  2021-01-27  0.333258  0.669048  0.004789  0.671670  351.194416\n",
       "1  2021-01-28  0.375296  0.738055  0.391762  0.652908  450.468446\n",
       "2  2021-01-29  0.616396  0.810863  0.000000  0.551595  290.585132\n",
       "3  2021-02-01  0.384803  0.593561  0.515326  0.604128  521.373237\n",
       "4  2021-02-02  0.245403  0.678877  0.435824  0.589118  503.957626"
      ]
     },
     "metadata": {},
     "output_type": "display_data"
    }
   ],
   "source": [
    "model = linear_model.LinearRegression()\n",
    "\n",
    "model.fit(X_train, y_train)\n",
    "\n",
    "prediction1 = model.predict(df_test_dinner.iloc[:,1:])\n",
    "\n",
    "scaler_t1 = scaler.fit(df_train_1['석식계'].values.reshape(-1,1))\n",
    "\n",
    "prediction2 = scaler_t1.inverse_transform(prediction1.reshape(-1,1))\n",
    "\n",
    "df_result_dinner = df_test_dinner.copy()\n",
    "df_result_dinner['석식계'] = pd.DataFrame(prediction1)\n",
    "\n",
    "display(df_result_dinner.head())\n",
    "\n",
    "df_result_dinner['석식계'] = pd.DataFrame(prediction2)\n",
    "\n",
    "display(df_result_dinner.head())"
   ]
  },
  {
   "cell_type": "markdown",
   "id": "4c849747",
   "metadata": {},
   "source": [
    "# 데이터 합치기"
   ]
  },
  {
   "cell_type": "code",
   "execution_count": null,
   "id": "2b006cce",
   "metadata": {},
   "outputs": [],
   "source": [
    "submission = pd.read_csv('./data/sample_submission.csv')\n",
    "submission.head()"
   ]
  },
  {
   "cell_type": "code",
   "execution_count": 355,
   "id": "a3f26b07",
   "metadata": {},
   "outputs": [
    {
     "data": {
      "text/html": [
       "<div>\n",
       "<style scoped>\n",
       "    .dataframe tbody tr th:only-of-type {\n",
       "        vertical-align: middle;\n",
       "    }\n",
       "\n",
       "    .dataframe tbody tr th {\n",
       "        vertical-align: top;\n",
       "    }\n",
       "\n",
       "    .dataframe thead th {\n",
       "        text-align: right;\n",
       "    }\n",
       "</style>\n",
       "<table border=\"1\" class=\"dataframe\">\n",
       "  <thead>\n",
       "    <tr style=\"text-align: right;\">\n",
       "      <th></th>\n",
       "      <th>일자</th>\n",
       "      <th>휴가자수</th>\n",
       "      <th>출장자수</th>\n",
       "      <th>승인건수</th>\n",
       "      <th>재택근무</th>\n",
       "      <th>중식계</th>\n",
       "    </tr>\n",
       "  </thead>\n",
       "  <tbody>\n",
       "    <tr>\n",
       "      <th>0</th>\n",
       "      <td>2021-01-27</td>\n",
       "      <td>0.333258</td>\n",
       "      <td>0.669048</td>\n",
       "      <td>0.004789</td>\n",
       "      <td>0.671670</td>\n",
       "      <td>915.653330</td>\n",
       "    </tr>\n",
       "    <tr>\n",
       "      <th>1</th>\n",
       "      <td>2021-01-28</td>\n",
       "      <td>0.375296</td>\n",
       "      <td>0.738055</td>\n",
       "      <td>0.391762</td>\n",
       "      <td>0.652908</td>\n",
       "      <td>934.781017</td>\n",
       "    </tr>\n",
       "    <tr>\n",
       "      <th>2</th>\n",
       "      <td>2021-01-29</td>\n",
       "      <td>0.616396</td>\n",
       "      <td>0.810863</td>\n",
       "      <td>0.000000</td>\n",
       "      <td>0.551595</td>\n",
       "      <td>629.921067</td>\n",
       "    </tr>\n",
       "    <tr>\n",
       "      <th>3</th>\n",
       "      <td>2021-02-01</td>\n",
       "      <td>0.384803</td>\n",
       "      <td>0.593561</td>\n",
       "      <td>0.515326</td>\n",
       "      <td>0.604128</td>\n",
       "      <td>1132.667754</td>\n",
       "    </tr>\n",
       "    <tr>\n",
       "      <th>4</th>\n",
       "      <td>2021-02-02</td>\n",
       "      <td>0.245403</td>\n",
       "      <td>0.678877</td>\n",
       "      <td>0.435824</td>\n",
       "      <td>0.589118</td>\n",
       "      <td>1085.971560</td>\n",
       "    </tr>\n",
       "  </tbody>\n",
       "</table>\n",
       "</div>"
      ],
      "text/plain": [
       "           일자      휴가자수      출장자수      승인건수      재택근무          중식계\n",
       "0  2021-01-27  0.333258  0.669048  0.004789  0.671670   915.653330\n",
       "1  2021-01-28  0.375296  0.738055  0.391762  0.652908   934.781017\n",
       "2  2021-01-29  0.616396  0.810863  0.000000  0.551595   629.921067\n",
       "3  2021-02-01  0.384803  0.593561  0.515326  0.604128  1132.667754\n",
       "4  2021-02-02  0.245403  0.678877  0.435824  0.589118  1085.971560"
      ]
     },
     "execution_count": 355,
     "metadata": {},
     "output_type": "execute_result"
    }
   ],
   "source": [
    "df_result_lunch.head()"
   ]
  },
  {
   "cell_type": "code",
   "execution_count": 356,
   "id": "841e6f16",
   "metadata": {},
   "outputs": [
    {
     "data": {
      "text/html": [
       "<div>\n",
       "<style scoped>\n",
       "    .dataframe tbody tr th:only-of-type {\n",
       "        vertical-align: middle;\n",
       "    }\n",
       "\n",
       "    .dataframe tbody tr th {\n",
       "        vertical-align: top;\n",
       "    }\n",
       "\n",
       "    .dataframe thead th {\n",
       "        text-align: right;\n",
       "    }\n",
       "</style>\n",
       "<table border=\"1\" class=\"dataframe\">\n",
       "  <thead>\n",
       "    <tr style=\"text-align: right;\">\n",
       "      <th></th>\n",
       "      <th>일자</th>\n",
       "      <th>휴가자수</th>\n",
       "      <th>출장자수</th>\n",
       "      <th>승인건수</th>\n",
       "      <th>재택근무</th>\n",
       "      <th>석식계</th>\n",
       "    </tr>\n",
       "  </thead>\n",
       "  <tbody>\n",
       "    <tr>\n",
       "      <th>0</th>\n",
       "      <td>2021-01-27</td>\n",
       "      <td>0.333258</td>\n",
       "      <td>0.669048</td>\n",
       "      <td>0.004789</td>\n",
       "      <td>0.671670</td>\n",
       "      <td>351.194416</td>\n",
       "    </tr>\n",
       "    <tr>\n",
       "      <th>1</th>\n",
       "      <td>2021-01-28</td>\n",
       "      <td>0.375296</td>\n",
       "      <td>0.738055</td>\n",
       "      <td>0.391762</td>\n",
       "      <td>0.652908</td>\n",
       "      <td>450.468446</td>\n",
       "    </tr>\n",
       "    <tr>\n",
       "      <th>2</th>\n",
       "      <td>2021-01-29</td>\n",
       "      <td>0.616396</td>\n",
       "      <td>0.810863</td>\n",
       "      <td>0.000000</td>\n",
       "      <td>0.551595</td>\n",
       "      <td>290.585132</td>\n",
       "    </tr>\n",
       "    <tr>\n",
       "      <th>3</th>\n",
       "      <td>2021-02-01</td>\n",
       "      <td>0.384803</td>\n",
       "      <td>0.593561</td>\n",
       "      <td>0.515326</td>\n",
       "      <td>0.604128</td>\n",
       "      <td>521.373237</td>\n",
       "    </tr>\n",
       "    <tr>\n",
       "      <th>4</th>\n",
       "      <td>2021-02-02</td>\n",
       "      <td>0.245403</td>\n",
       "      <td>0.678877</td>\n",
       "      <td>0.435824</td>\n",
       "      <td>0.589118</td>\n",
       "      <td>503.957626</td>\n",
       "    </tr>\n",
       "  </tbody>\n",
       "</table>\n",
       "</div>"
      ],
      "text/plain": [
       "           일자      휴가자수      출장자수      승인건수      재택근무         석식계\n",
       "0  2021-01-27  0.333258  0.669048  0.004789  0.671670  351.194416\n",
       "1  2021-01-28  0.375296  0.738055  0.391762  0.652908  450.468446\n",
       "2  2021-01-29  0.616396  0.810863  0.000000  0.551595  290.585132\n",
       "3  2021-02-01  0.384803  0.593561  0.515326  0.604128  521.373237\n",
       "4  2021-02-02  0.245403  0.678877  0.435824  0.589118  503.957626"
      ]
     },
     "execution_count": 356,
     "metadata": {},
     "output_type": "execute_result"
    }
   ],
   "source": [
    "df_result_dinner.head()"
   ]
  },
  {
   "cell_type": "code",
   "execution_count": 359,
   "id": "4b3752ae",
   "metadata": {},
   "outputs": [
    {
     "data": {
      "text/html": [
       "<div>\n",
       "<style scoped>\n",
       "    .dataframe tbody tr th:only-of-type {\n",
       "        vertical-align: middle;\n",
       "    }\n",
       "\n",
       "    .dataframe tbody tr th {\n",
       "        vertical-align: top;\n",
       "    }\n",
       "\n",
       "    .dataframe thead th {\n",
       "        text-align: right;\n",
       "    }\n",
       "</style>\n",
       "<table border=\"1\" class=\"dataframe\">\n",
       "  <thead>\n",
       "    <tr style=\"text-align: right;\">\n",
       "      <th></th>\n",
       "      <th>일자</th>\n",
       "      <th>중식계</th>\n",
       "      <th>석식계</th>\n",
       "    </tr>\n",
       "  </thead>\n",
       "  <tbody>\n",
       "    <tr>\n",
       "      <th>0</th>\n",
       "      <td>2021-01-27</td>\n",
       "      <td>915.653330</td>\n",
       "      <td>351.194416</td>\n",
       "    </tr>\n",
       "    <tr>\n",
       "      <th>1</th>\n",
       "      <td>2021-01-28</td>\n",
       "      <td>934.781017</td>\n",
       "      <td>450.468446</td>\n",
       "    </tr>\n",
       "    <tr>\n",
       "      <th>2</th>\n",
       "      <td>2021-01-29</td>\n",
       "      <td>629.921067</td>\n",
       "      <td>290.585132</td>\n",
       "    </tr>\n",
       "    <tr>\n",
       "      <th>3</th>\n",
       "      <td>2021-02-01</td>\n",
       "      <td>1132.667754</td>\n",
       "      <td>521.373237</td>\n",
       "    </tr>\n",
       "    <tr>\n",
       "      <th>4</th>\n",
       "      <td>2021-02-02</td>\n",
       "      <td>1085.971560</td>\n",
       "      <td>503.957626</td>\n",
       "    </tr>\n",
       "  </tbody>\n",
       "</table>\n",
       "</div>"
      ],
      "text/plain": [
       "           일자          중식계         석식계\n",
       "0  2021-01-27   915.653330  351.194416\n",
       "1  2021-01-28   934.781017  450.468446\n",
       "2  2021-01-29   629.921067  290.585132\n",
       "3  2021-02-01  1132.667754  521.373237\n",
       "4  2021-02-02  1085.971560  503.957626"
      ]
     },
     "execution_count": 359,
     "metadata": {},
     "output_type": "execute_result"
    }
   ],
   "source": [
    "submission['중식계'] = df_result_lunch['중식계']\n",
    "submission['석식계'] = df_result_dinner['석식계']\n",
    "\n",
    "submission.head()"
   ]
  },
  {
   "cell_type": "code",
   "execution_count": 360,
   "id": "51f658d5",
   "metadata": {},
   "outputs": [],
   "source": [
    "submission.to_csv('./data/submission_first.csv', index=False)"
   ]
  },
  {
   "cell_type": "markdown",
   "id": "2dda5903",
   "metadata": {},
   "source": [
    "- 출장자수, 등 너무차이나는거는 category로 해볼까?\n"
   ]
  }
 ],
 "metadata": {
  "kernelspec": {
   "display_name": "Python [conda env:machine]",
   "language": "python",
   "name": "conda-env-machine-py"
  },
  "language_info": {
   "codemirror_mode": {
    "name": "ipython",
    "version": 3
   },
   "file_extension": ".py",
   "mimetype": "text/x-python",
   "name": "python",
   "nbconvert_exporter": "python",
   "pygments_lexer": "ipython3",
   "version": "3.8.12"
  }
 },
 "nbformat": 4,
 "nbformat_minor": 5
}
